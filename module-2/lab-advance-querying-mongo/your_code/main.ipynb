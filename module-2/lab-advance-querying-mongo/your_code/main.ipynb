{
 "cells": [
  {
   "cell_type": "markdown",
   "metadata": {},
   "source": [
    "# Advanced Querying Mongo"
   ]
  },
  {
   "cell_type": "code",
   "execution_count": 32,
   "metadata": {},
   "outputs": [],
   "source": [
    "from pymongo import MongoClient\n",
    "\n",
    "dbName = \"companies.json\"\n",
    "mongodbURL = f\"mongodb://localhost/{dbName}\"\n",
    "\n",
    "client = MongoClient(mongodbURL, connectTimeoutMS=2000, serverSelectionTimeoutMS=2000)\n",
    "db = client.get_database()"
   ]
  },
  {
   "cell_type": "markdown",
   "metadata": {},
   "source": [
    "### 1. All the companies whose name match 'Babelgum'. Retrieve only their `name` field."
   ]
  },
  {
   "cell_type": "code",
   "execution_count": 36,
   "metadata": {},
   "outputs": [
    {
     "name": "stdout",
     "output_type": "stream",
     "text": [
      "Babelgum\n"
     ]
    }
   ],
   "source": [
    "query = {\n",
    "    \"name\":\n",
    "    {\"$eq\":\"Babelgum\"}\n",
    "}\n",
    "\n",
    "cur = db.companies.find(query)\n",
    "\n",
    "for company in list(cur):\n",
    "    print(company[\"name\"])\n",
    "    break\n"
   ]
  },
  {
   "cell_type": "markdown",
   "metadata": {},
   "source": [
    "### 2. All the companies that have more than 5000 employees. Limit the search to 20 companies and sort them by **number of employees**."
   ]
  },
  {
   "cell_type": "code",
   "execution_count": 54,
   "metadata": {},
   "outputs": [],
   "source": [
    "query = {\n",
    "    \"number_of_employees\":\n",
    "    {\"$gt\":5000}\n",
    "}\n",
    "cur = db.companies.find(query).sort(\"number_of_employees\", -1).limit(20)\n",
    "data = list(cur)\n"
   ]
  },
  {
   "cell_type": "markdown",
   "metadata": {},
   "source": [
    "### 3. All the companies founded between 2000 and 2005, both years included. Retrieve only the `name` and `founded_year` fields."
   ]
  },
  {
   "cell_type": "code",
   "execution_count": 61,
   "metadata": {},
   "outputs": [
    {
     "name": "stdout",
     "output_type": "stream",
     "text": [
      "Omnidrive 2005\n",
      "Zoho 2005\n",
      "Gizmoz 2003\n",
      "Wetpaint 2005\n",
      "Helio 2005\n"
     ]
    }
   ],
   "source": [
    "query = {\n",
    "    \"$and\":[\n",
    "        {\"founded_year\":{\"$gte\":2000}},\n",
    "        {\"founded_year\":{\"$lte\":2005}}\n",
    "    ]\n",
    "}\n",
    "\n",
    "cur = db.companies.find(query).limit(5)\n",
    "\n",
    "for company in list(cur):\n",
    "    print(company[\"name\"], company[\"founded_year\"])\n"
   ]
  },
  {
   "cell_type": "markdown",
   "metadata": {},
   "source": [
    "### 4. All the companies that had a Valuation Amount of more than 100.000.000 and have been founded before 2010. Retrieve only the `name` and `ipo` fields."
   ]
  },
  {
   "cell_type": "code",
   "execution_count": 145,
   "metadata": {},
   "outputs": [
    {
     "name": "stdout",
     "output_type": "stream",
     "text": [
      "Twitter {'valuation_amount': 18100000000, 'valuation_currency_code': 'USD', 'pub_year': 2013, 'pub_month': 11, 'pub_day': 7, 'stock_symbol': 'NYSE:TWTR'}\n",
      "Facebook {'valuation_amount': 104000000000, 'valuation_currency_code': 'USD', 'pub_year': 2012, 'pub_month': 5, 'pub_day': 18, 'stock_symbol': 'NASDAQ:FB'}\n",
      "Yelp {'valuation_amount': 1300000000, 'valuation_currency_code': 'USD', 'pub_year': 2012, 'pub_month': 3, 'pub_day': 2, 'stock_symbol': 'NYSE:YELP'}\n",
      "LinkedIn {'valuation_amount': 9310000000, 'valuation_currency_code': 'USD', 'pub_year': 2011, 'pub_month': 7, 'pub_day': 20, 'stock_symbol': 'NYSE:LNKD'}\n",
      "Brightcove {'valuation_amount': 290000000, 'valuation_currency_code': 'USD', 'pub_year': 2012, 'pub_month': 2, 'pub_day': 17, 'stock_symbol': 'NASDAQ:BCOV'}\n"
     ]
    }
   ],
   "source": [
    "query = {\n",
    "    \"$and\":[\n",
    "        {\"ipo.valuation_amount\":{\"$gte\":100000000}},\n",
    "        {\"founded_year\":{\"$lt\":2010}}\n",
    "    ]\n",
    "}\n",
    "\n",
    "cur = db.companies.find(query).limit(5)\n",
    "\n",
    "for company in list(cur):\n",
    "    print(company[\"name\"], company[\"ipo\"])"
   ]
  },
  {
   "cell_type": "markdown",
   "metadata": {},
   "source": [
    "### 5. All the companies that have less than 1000 employees and have been founded before 2005. Order them by the number of employees and limit the search to 10 companies."
   ]
  },
  {
   "cell_type": "code",
   "execution_count": 77,
   "metadata": {},
   "outputs": [],
   "source": [
    "query = {\n",
    "    \"$and\":[\n",
    "    {\"number_of_employees\":{\"$lt\":1000}},\n",
    "    {\"founded_year\":{\"$lt\":2005}}\n",
    "    ]\n",
    "}\n",
    "        \n",
    "cur=db.companies.find(query).sort(\"number_of_employees\").limit(10)"
   ]
  },
  {
   "cell_type": "markdown",
   "metadata": {},
   "source": [
    "### 6. All the companies that don't include the `partners` field."
   ]
  },
  {
   "cell_type": "code",
   "execution_count": 82,
   "metadata": {},
   "outputs": [],
   "source": [
    "query = {\"partners\":\n",
    "         {\"$exists\":\"false\"}\n",
    "        }\n",
    "        \n",
    "cur=db.companies.find(query)\n"
   ]
  },
  {
   "cell_type": "markdown",
   "metadata": {},
   "source": [
    "### 7. All the companies that have a null type of value on the `category_code` field."
   ]
  },
  {
   "cell_type": "code",
   "execution_count": 86,
   "metadata": {},
   "outputs": [
    {
     "data": {
      "text/plain": [
       "[{'_id': ObjectId('52cdef7c4bab8bd6752980f6'),\n",
       "  'name': 'Collective',\n",
       "  'permalink': 'collective',\n",
       "  'crunchbase_url': 'http://www.crunchbase.com/company/collective',\n",
       "  'homepage_url': None,\n",
       "  'blog_url': None,\n",
       "  'blog_feed_url': None,\n",
       "  'twitter_username': None,\n",
       "  'category_code': None,\n",
       "  'number_of_employees': None,\n",
       "  'founded_year': None,\n",
       "  'founded_month': None,\n",
       "  'founded_day': None,\n",
       "  'deadpooled_year': None,\n",
       "  'deadpooled_month': None,\n",
       "  'deadpooled_day': None,\n",
       "  'deadpooled_url': None,\n",
       "  'tag_list': None,\n",
       "  'alias_list': None,\n",
       "  'email_address': None,\n",
       "  'phone_number': None,\n",
       "  'description': None,\n",
       "  'created_at': 'Thu Sep 26 13:15:02 UTC 2013',\n",
       "  'updated_at': 'Thu Sep 26 13:15:02 UTC 2013',\n",
       "  'overview': None,\n",
       "  'image': None,\n",
       "  'products': [],\n",
       "  'relationships': [],\n",
       "  'competitions': [],\n",
       "  'providerships': [],\n",
       "  'total_money_raised': '$0',\n",
       "  'funding_rounds': [],\n",
       "  'investments': [],\n",
       "  'acquisition': None,\n",
       "  'acquisitions': [],\n",
       "  'offices': [],\n",
       "  'milestones': [],\n",
       "  'ipo': None,\n",
       "  'video_embeds': [],\n",
       "  'screenshots': [],\n",
       "  'external_links': [],\n",
       "  'partners': []}]"
      ]
     },
     "execution_count": 86,
     "metadata": {},
     "output_type": "execute_result"
    }
   ],
   "source": [
    "query = {\"category_code\":\n",
    "         {\"$eq\":None}\n",
    "        }\n",
    "        \n",
    "cur=db.companies.find(query)\n"
   ]
  },
  {
   "cell_type": "markdown",
   "metadata": {},
   "source": [
    "### 8. All the companies that have at least 100 employees but less than 1000. Retrieve only the `name` and `number of employees` fields."
   ]
  },
  {
   "cell_type": "code",
   "execution_count": 87,
   "metadata": {},
   "outputs": [
    {
     "name": "stdout",
     "output_type": "stream",
     "text": [
      "AdventNet 600\n",
      "LifeLock 644\n",
      "OpenX 305\n",
      "AddThis 120\n",
      "Jajah 110\n"
     ]
    }
   ],
   "source": [
    "query = {\n",
    "    \"$and\":[\n",
    "        {\"number_of_employees\":{\"$gte\":100}},\n",
    "        {\"number_of_employees\":{\"$lt\":1000}}\n",
    "    ]\n",
    "}\n",
    "\n",
    "cur = db.companies.find(query).limit(5)\n",
    "\n",
    "for company in list(cur):\n",
    "    print(company[\"name\"], company[\"number_of_employees\"])\n"
   ]
  },
  {
   "cell_type": "markdown",
   "metadata": {},
   "source": [
    "### 9. Order all the companies by their IPO price in a descending order."
   ]
  },
  {
   "cell_type": "code",
   "execution_count": 94,
   "metadata": {},
   "outputs": [],
   "source": [
    "cur = db.companies.find().sort(\"ipo\", -1).limit(10)\n",
    "data = list(cur)\n"
   ]
  },
  {
   "cell_type": "markdown",
   "metadata": {},
   "source": [
    "### 10. Retrieve the 10 companies with more employees, order by the `number of employees`"
   ]
  },
  {
   "cell_type": "code",
   "execution_count": 96,
   "metadata": {},
   "outputs": [],
   "source": [
    "cur = db.companies.find().sort(\"number_of_employees\", -1).limit(10)\n",
    "data = list(cur)\n"
   ]
  },
  {
   "cell_type": "markdown",
   "metadata": {},
   "source": [
    "### 11. All the companies founded on the second semester of the year. Limit your search to 1000 companies."
   ]
  },
  {
   "cell_type": "code",
   "execution_count": 126,
   "metadata": {},
   "outputs": [],
   "source": [
    "query = {\"founded_month\":{\"$gte\":7}}\n",
    "\n",
    "data = db.companies.find(query).limit(1000)"
   ]
  },
  {
   "cell_type": "markdown",
   "metadata": {},
   "source": [
    "### 12. All the companies founded before 2000 that have an acquisition amount of more than 10.000.00"
   ]
  },
  {
   "cell_type": "code",
   "execution_count": 103,
   "metadata": {},
   "outputs": [],
   "source": [
    "query = {\n",
    "    \"$and\":[{\"founded_year\":{\"$lte\":2000}}, \n",
    "        {\"acquisition.price_amount\":{\"$gte\":10000}}\n",
    "    ]\n",
    "        }\n",
    "\n",
    "data = db.companies.find(query)\n"
   ]
  },
  {
   "cell_type": "markdown",
   "metadata": {},
   "source": [
    "### 13. All the companies that have been acquired after 2010, order by the acquisition amount, and retrieve only their `name` and `acquisition` field."
   ]
  },
  {
   "cell_type": "code",
   "execution_count": 114,
   "metadata": {},
   "outputs": [
    {
     "name": "stdout",
     "output_type": "stream",
     "text": [
      "Veoh {'price_amount': None, 'price_currency_code': 'USD', 'term_code': None, 'source_url': 'http://techcrunch.com/2010/04/07/qlipso-veoh/', 'source_description': \"Qlipso's CEO Explains Why He Bought Veoh\", 'acquired_year': 2010, 'acquired_month': 4, 'acquired_day': 7, 'acquiring_company': {'name': 'Qlipso', 'permalink': 'qlipso'}}\n"
     ]
    }
   ],
   "source": [
    "query = {\"acquisition.acquired_year\":\n",
    "         {\"$eq\":2010}   \n",
    "}\n",
    "data = db.companies.find(query).limit(1)\n",
    "for company in list(data): \n",
    "    print(company[\"name\"], company[\"acquisition\"])"
   ]
  },
  {
   "cell_type": "markdown",
   "metadata": {},
   "source": [
    "### 14. Order the companies by their `founded year`, retrieving only their `name` and `founded year`."
   ]
  },
  {
   "cell_type": "code",
   "execution_count": 122,
   "metadata": {},
   "outputs": [
    {
     "name": "stdout",
     "output_type": "stream",
     "text": [
      "Alstrasoft 1800\n",
      "SmallWorlds 1800\n",
      "US Army 1800\n",
      "DuPont 1802\n",
      "McKesson 1833\n"
     ]
    }
   ],
   "source": [
    "query ={\"founded_year\":\n",
    "        {\"$ne\":None}\n",
    "}\n",
    "\n",
    "data = db.companies.find(query).sort(\"founded_year\").limit(5)\n",
    "for company in list(data):\n",
    "    print(company[\"name\"], company[\"founded_year\"])"
   ]
  },
  {
   "cell_type": "markdown",
   "metadata": {},
   "source": [
    "### 15. All the companies that have been founded on the first seven days of the month, including the seventh. Sort them by their `acquisition price` in a descending order. Limit the search to 10 documents."
   ]
  },
  {
   "cell_type": "code",
   "execution_count": 130,
   "metadata": {},
   "outputs": [],
   "source": [
    "query = {\"founded_day\":\n",
    "         {\"$lte\":7}   \n",
    "}\n",
    "data = db.companies.find(query).sort(\"acquisition.price_amount\", -1).limit(10)"
   ]
  },
  {
   "cell_type": "markdown",
   "metadata": {},
   "source": [
    "### 16. All the companies on the 'web' `category` that have more than 4000 employees. Sort them by the amount of employees in ascending order."
   ]
  },
  {
   "cell_type": "code",
   "execution_count": 139,
   "metadata": {},
   "outputs": [],
   "source": [
    "query={\n",
    "    \"$and\":[\n",
    "        {\"category_code\":{\"$eq\":\"web\"}},\n",
    "       {\"number_of_employees\":{\"$gt\":4000}}\n",
    "    ]\n",
    "}\n",
    "\n",
    "data = db.companies.find(query).sort(\"number_of_employees\", -1)"
   ]
  },
  {
   "cell_type": "markdown",
   "metadata": {},
   "source": [
    "### 17. All the companies whose acquisition amount is more than 10.000.000, and currency is 'EUR'."
   ]
  },
  {
   "cell_type": "code",
   "execution_count": 143,
   "metadata": {},
   "outputs": [],
   "source": [
    "query = {\n",
    "    \"$and\":[\n",
    "        {\"acquisition.price_amount\":{\"$gte\":10000000}}, \n",
    "        {\"acquisition.price_currency_code\":{\"$eq\":\"EUR\"}}\n",
    "    ]\n",
    "}\n",
    "data = db.companies.find(query)"
   ]
  },
  {
   "cell_type": "markdown",
   "metadata": {},
   "source": [
    "### 18. All the companies that have been acquired on the first trimester of the year. Limit the search to 10 companies, and retrieve only their `name` and `acquisition` fields."
   ]
  },
  {
   "cell_type": "code",
   "execution_count": 147,
   "metadata": {},
   "outputs": [
    {
     "name": "stdout",
     "output_type": "stream",
     "text": [
      "Gizmoz {'price_amount': None, 'price_currency_code': 'USD', 'term_code': None, 'source_url': 'http://www.gizmoz.com', 'source_description': 'TechCrunch', 'acquired_year': 2009, 'acquired_month': 12, 'acquired_day': 15, 'acquiring_company': {'name': 'Daz 3d', 'permalink': 'daz-3d'}}\n",
      "Helio {'price_amount': 39000000, 'price_currency_code': 'USD', 'term_code': 'stock', 'source_url': 'http://news.cnet.com/8301-10784_3-9978991-7.html', 'source_description': 'Virgin Mobile USA buys Helio for $39 million', 'acquired_year': 2008, 'acquired_month': 6, 'acquired_day': 27, 'acquiring_company': {'name': 'Virgin Mobile USA', 'permalink': 'virgin-mobile'}}\n",
      "Babelgum None\n",
      "StumbleUpon {'price_amount': 29000000, 'price_currency_code': 'USD', 'term_code': None, 'source_url': 'http://techcrunch.com/2009/04/13/ebay-unacquires-stumbleupon/', 'source_description': \"StumbleUpon Beats Skype In Escaping EBay's Clutches\", 'acquired_year': 2009, 'acquired_month': 4, 'acquired_day': None, 'acquiring_company': {'name': 'StumbleUpon', 'permalink': 'stumbleupon'}}\n",
      "Twitter None\n",
      "Mahalo None\n",
      "Facebook None\n",
      "Meetup None\n",
      "Jangl SMS None\n",
      "Prosper None\n"
     ]
    }
   ],
   "source": [
    "query = {\"founded_month\":{\"$lte\":4}}\n",
    "\n",
    "data = db.companies.find(query).limit(10)\n",
    "\n",
    "for company in list(data):\n",
    "    print(company[\"name\"], company[\"acquisition\"])"
   ]
  },
  {
   "cell_type": "markdown",
   "metadata": {},
   "source": [
    "# Bonus\n",
    "### 19. All the companies that have been founded between 2000 and 2010, but have not been acquired before 2011."
   ]
  },
  {
   "cell_type": "code",
   "execution_count": 150,
   "metadata": {},
   "outputs": [],
   "source": [
    "query = {\n",
    "    \"$and\":[\n",
    "        {\"founded_year\":{\"$gte\":2000}}, \n",
    "        {\"founded_year\":{\"$lte\":2010}},\n",
    "        {\"acquisition.acquired_year\":{\"$gte\":2011}}\n",
    "    ]\n",
    "}\n",
    "data = db.companies.find(query)"
   ]
  },
  {
   "cell_type": "markdown",
   "metadata": {},
   "source": [
    "### 20. All the companies that have been 'deadpooled' after the third year."
   ]
  },
  {
   "cell_type": "code",
   "execution_count": 151,
   "metadata": {},
   "outputs": [
    {
     "ename": "TypeError",
     "evalue": "can only concatenate str (not \"int\") to str",
     "output_type": "error",
     "traceback": [
      "\u001b[0;31m---------------------------------------------------------------------------\u001b[0m",
      "\u001b[0;31mTypeError\u001b[0m                                 Traceback (most recent call last)",
      "\u001b[0;32m<ipython-input-151-946eb2fef98f>\u001b[0m in \u001b[0;36m<module>\u001b[0;34m\u001b[0m\n\u001b[0;32m----> 1\u001b[0;31m \u001b[0mquery\u001b[0m \u001b[0;34m=\u001b[0m \u001b[0;34m{\u001b[0m\u001b[0;34m\"deadpooled_year\"\u001b[0m\u001b[0;34m:\u001b[0m\u001b[0;34m{\u001b[0m\u001b[0;34m\"$gte\"\u001b[0m\u001b[0;34m:\u001b[0m\u001b[0;34m(\u001b[0m\u001b[0;34m\"founded_year\"\u001b[0m\u001b[0;34m)\u001b[0m\u001b[0;34m+\u001b[0m\u001b[0;36m3\u001b[0m\u001b[0;34m}\u001b[0m\u001b[0;34m}\u001b[0m\u001b[0;34m\u001b[0m\u001b[0;34m\u001b[0m\u001b[0m\n\u001b[0m\u001b[1;32m      2\u001b[0m \u001b[0;34m\u001b[0m\u001b[0m\n\u001b[1;32m      3\u001b[0m \u001b[0mdata\u001b[0m \u001b[0;34m=\u001b[0m \u001b[0mdb\u001b[0m\u001b[0;34m.\u001b[0m\u001b[0mcompanies\u001b[0m\u001b[0;34m.\u001b[0m\u001b[0mfind\u001b[0m\u001b[0;34m(\u001b[0m\u001b[0mquery\u001b[0m\u001b[0;34m)\u001b[0m\u001b[0;34m\u001b[0m\u001b[0;34m\u001b[0m\u001b[0m\n",
      "\u001b[0;31mTypeError\u001b[0m: can only concatenate str (not \"int\") to str"
     ]
    }
   ],
   "source": [
    "query = {\"deadpooled_year\":{\"$gte\":(\"founded_year\")+3}}\n",
    "\n",
    "data = db.companies.find(query)"
   ]
  },
  {
   "cell_type": "code",
   "execution_count": null,
   "metadata": {},
   "outputs": [],
   "source": []
  }
 ],
 "metadata": {
  "kernelspec": {
   "display_name": "Python 3",
   "language": "python",
   "name": "python3"
  },
  "language_info": {
   "codemirror_mode": {
    "name": "ipython",
    "version": 3
   },
   "file_extension": ".py",
   "mimetype": "text/x-python",
   "name": "python",
   "nbconvert_exporter": "python",
   "pygments_lexer": "ipython3",
   "version": "3.7.7"
  }
 },
 "nbformat": 4,
 "nbformat_minor": 2
}
